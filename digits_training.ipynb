{
 "cells": [
  {
   "cell_type": "code",
   "execution_count": null,
   "id": "e4b65098",
   "metadata": {},
   "outputs": [],
   "source": [
    "# https://www.kaggle.com/datasets/karnikakapoor/digits"
   ]
  },
  {
   "cell_type": "code",
   "execution_count": 1,
   "id": "faafaa3b",
   "metadata": {},
   "outputs": [],
   "source": [
    "import tensorflow as tf\n",
    "from tensorflow import keras\n",
    "from tensorflow.keras import models, layers\n",
    "import matplotlib.pyplot as plt\n",
    "from IPython.display import HTML\n",
    "import numpy as np"
   ]
  },
  {
   "cell_type": "markdown",
   "id": "db9143af",
   "metadata": {},
   "source": [
    "## Set constants"
   ]
  },
  {
   "cell_type": "code",
   "execution_count": 2,
   "id": "05f6420b",
   "metadata": {},
   "outputs": [],
   "source": [
    "BATCH_SIZE = 32\n",
    "IMAGE_SIZE = 32\n",
    "CHANNELS=3\n",
    "EPOCHS=10"
   ]
  },
  {
   "cell_type": "markdown",
   "id": "c94bfd0d",
   "metadata": {},
   "source": [
    "## Import data into tensorflow dataset object"
   ]
  },
  {
   "cell_type": "code",
   "execution_count": 3,
   "id": "8758b2dd",
   "metadata": {},
   "outputs": [
    {
     "name": "stdout",
     "output_type": "stream",
     "text": [
      "Found 10160 files belonging to 10 classes.\n"
     ]
    }
   ],
   "source": [
    "dataset = tf.keras.preprocessing.image_dataset_from_directory(\n",
    "    \"Digits\",\n",
    "    seed=123,\n",
    "    color_mode='grayscale',\n",
    "    shuffle=True,\n",
    "    image_size=(IMAGE_SIZE,IMAGE_SIZE),\n",
    "    batch_size=None\n",
    "    \n",
    ")\n"
   ]
  },
  {
   "cell_type": "code",
   "execution_count": 4,
   "id": "84b7f924",
   "metadata": {},
   "outputs": [
    {
     "name": "stdout",
     "output_type": "stream",
     "text": [
      "Found 10160 files belonging to 10 classes.\n",
      "Using 8128 files for training.\n",
      "Found 10160 files belonging to 10 classes.\n",
      "Using 2032 files for validation.\n"
     ]
    }
   ],
   "source": [
    "training_dataset = tf.keras.preprocessing.image_dataset_from_directory(\n",
    "    \"Digits\",\n",
    "    seed=123,\n",
    "    validation_split=0.2,\n",
    "    subset=\"training\",\n",
    "    color_mode='grayscale',\n",
    "    shuffle=True,\n",
    "    image_size=(IMAGE_SIZE,IMAGE_SIZE),\n",
    "    batch_size=None\n",
    "    \n",
    ")\n",
    "\n",
    "validation_dataset = tf.keras.preprocessing.image_dataset_from_directory(\n",
    "    \"Digits\",\n",
    "    seed=123,\n",
    "    validation_split=0.2,\n",
    "    subset=\"validation\",\n",
    "    color_mode='grayscale',\n",
    "    shuffle=True,\n",
    "    image_size=(IMAGE_SIZE,IMAGE_SIZE),\n",
    "    batch_size=None\n",
    "    \n",
    ")\n"
   ]
  },
  {
   "cell_type": "code",
   "execution_count": null,
   "id": "0c3df31b",
   "metadata": {},
   "outputs": [],
   "source": []
  },
  {
   "cell_type": "code",
   "execution_count": 5,
   "id": "22d5eeac",
   "metadata": {},
   "outputs": [
    {
     "data": {
      "text/plain": [
       "['0', '1', '2', '3', '4', '5', '6', '7', '8', '9']"
      ]
     },
     "execution_count": 5,
     "metadata": {},
     "output_type": "execute_result"
    }
   ],
   "source": [
    "class_names = training_dataset.class_names\n",
    "class_names"
   ]
  },
  {
   "cell_type": "code",
   "execution_count": 6,
   "id": "798abfaa",
   "metadata": {},
   "outputs": [
    {
     "data": {
      "text/plain": [
       "['0', '1', '2', '3', '4', '5', '6', '7', '8', '9']"
      ]
     },
     "execution_count": 6,
     "metadata": {},
     "output_type": "execute_result"
    }
   ],
   "source": [
    "class_names = validation_dataset.class_names\n",
    "class_names"
   ]
  },
  {
   "cell_type": "code",
   "execution_count": 7,
   "id": "cf16497b",
   "metadata": {},
   "outputs": [],
   "source": [
    "X_train=[]\n",
    "X_train_flatten=[]\n",
    "y_train=[]\n",
    "for image_batch, labels_batch in training_dataset:\n",
    "    X_train.append(image_batch.numpy().reshape(IMAGE_SIZE, IMAGE_SIZE))\n",
    "    X_train_flatten.append(image_batch.numpy().reshape(IMAGE_SIZE, IMAGE_SIZE).flatten())\n",
    "    y_train.append(labels_batch.numpy())\n",
    "X_train= np.array(X_train)\n",
    "y_train= np.array(y_train)"
   ]
  },
  {
   "cell_type": "code",
   "execution_count": 8,
   "id": "58e7df26",
   "metadata": {},
   "outputs": [],
   "source": [
    "X_test=[]\n",
    "X_test_flatten=[]\n",
    "y_test=[]\n",
    "for image_batch, labels_batch in validation_dataset:\n",
    "    X_test.append(image_batch.numpy().reshape(IMAGE_SIZE, IMAGE_SIZE))\n",
    "    X_test_flatten.append(image_batch.numpy().reshape(IMAGE_SIZE, IMAGE_SIZE).flatten())\n",
    "    y_test.append(labels_batch.numpy())\n",
    "X_test= np.array(X_test)\n",
    "y_test= np.array(y_test)"
   ]
  },
  {
   "cell_type": "code",
   "execution_count": 9,
   "id": "a275ce03",
   "metadata": {},
   "outputs": [
    {
     "data": {
      "text/plain": [
       "((8128, 32, 32), (2032, 32, 32))"
      ]
     },
     "execution_count": 9,
     "metadata": {},
     "output_type": "execute_result"
    }
   ],
   "source": [
    "X_train.shape, X_test.shape"
   ]
  },
  {
   "cell_type": "code",
   "execution_count": 10,
   "id": "9a5da0ef",
   "metadata": {},
   "outputs": [],
   "source": [
    "X_train_flatten= np.array(X_train_flatten)\n",
    "X_test_flatten= np.array(X_test_flatten)"
   ]
  },
  {
   "cell_type": "code",
   "execution_count": 11,
   "id": "b253ed3c",
   "metadata": {},
   "outputs": [
    {
     "data": {
      "text/plain": [
       "((8128, 1024), (2032, 1024))"
      ]
     },
     "execution_count": 11,
     "metadata": {},
     "output_type": "execute_result"
    }
   ],
   "source": [
    "X_train_flatten.shape ,X_test_flatten.shape"
   ]
  },
  {
   "cell_type": "code",
   "execution_count": null,
   "id": "37b0a2ef",
   "metadata": {},
   "outputs": [],
   "source": []
  },
  {
   "cell_type": "code",
   "execution_count": 12,
   "id": "640fb41e",
   "metadata": {},
   "outputs": [],
   "source": [
    "# Scaling\n",
    "X_train_flatten = X_train_flatten / 255\n",
    "X_test_flatten = X_test_flatten / 255"
   ]
  },
  {
   "cell_type": "code",
   "execution_count": 13,
   "id": "17d07281",
   "metadata": {},
   "outputs": [
    {
     "name": "stdout",
     "output_type": "stream",
     "text": [
      "Epoch 1/5\n",
      "254/254 [==============================] - 1s 1ms/step - loss: 0.8956 - accuracy: 0.7790\n",
      "Epoch 2/5\n",
      "254/254 [==============================] - 0s 1ms/step - loss: 0.3646 - accuracy: 0.9124\n",
      "Epoch 3/5\n",
      "254/254 [==============================] - 0s 1ms/step - loss: 0.2868 - accuracy: 0.9215\n",
      "Epoch 4/5\n",
      "254/254 [==============================] - 0s 1ms/step - loss: 0.2426 - accuracy: 0.9337\n",
      "Epoch 5/5\n",
      "254/254 [==============================] - 0s 1ms/step - loss: 0.2095 - accuracy: 0.9432\n"
     ]
    },
    {
     "data": {
      "text/plain": [
       "<keras.callbacks.History at 0x23312e48f40>"
      ]
     },
     "execution_count": 13,
     "metadata": {},
     "output_type": "execute_result"
    }
   ],
   "source": [
    "# kera model build\n",
    "\n",
    "tf_model = keras.Sequential([\n",
    "    keras.layers.Dense(10, input_shape=(IMAGE_SIZE*IMAGE_SIZE,), activation='sigmoid')\n",
    "])\n",
    "\n",
    "tf_model.compile(optimizer='adam',\n",
    "              loss='sparse_categorical_crossentropy',\n",
    "              metrics=['accuracy'])\n",
    "\n",
    "tf_model.fit(X_train_flatten, y_train, epochs=5)"
   ]
  },
  {
   "cell_type": "code",
   "execution_count": 17,
   "id": "103bd347",
   "metadata": {},
   "outputs": [
    {
     "name": "stdout",
     "output_type": "stream",
     "text": [
      "64/64 [==============================] - 0s 1ms/step - loss: 0.2244 - accuracy: 0.9380\n"
     ]
    },
    {
     "data": {
      "text/plain": [
       "[0.2244388312101364, 0.9379921555519104]"
      ]
     },
     "execution_count": 17,
     "metadata": {},
     "output_type": "execute_result"
    }
   ],
   "source": [
    "# evaluate model\n",
    "\n",
    "tf_model.evaluate(X_test_flatten, y_test)"
   ]
  },
  {
   "cell_type": "code",
   "execution_count": 19,
   "id": "eb37fe51",
   "metadata": {},
   "outputs": [
    {
     "name": "stdout",
     "output_type": "stream",
     "text": [
      "64/64 [==============================] - 0s 862us/step\n"
     ]
    },
    {
     "data": {
      "text/plain": [
       "array([0.009586  , 0.90571725, 0.2385535 , 0.05679846, 0.18087143,\n",
       "       0.08468521, 0.01942252, 0.3036323 , 0.01541028, 0.03853916],\n",
       "      dtype=float32)"
      ]
     },
     "execution_count": 19,
     "metadata": {},
     "output_type": "execute_result"
    }
   ],
   "source": [
    "y_predicted = tf_model.predict(X_test_flatten)\n",
    "y_predicted[0]"
   ]
  },
  {
   "cell_type": "code",
   "execution_count": 25,
   "id": "45a8161b",
   "metadata": {},
   "outputs": [
    {
     "data": {
      "text/plain": [
       "(9, <matplotlib.image.AxesImage at 0x2331bcbdd60>)"
      ]
     },
     "execution_count": 25,
     "metadata": {},
     "output_type": "execute_result"
    },
    {
     "data": {
      "image/png": "[encoded data removed]",
      "text/plain": [
       "<Figure size 288x288 with 1 Axes>"
      ]
     },
     "metadata": {
      "needs_background": "light"
     },
     "output_type": "display_data"
    }
   ],
   "source": [
    "no_= 10\n",
    "np.argmax(y_predicted[no_]), plt.matshow(X_test[no_])"
   ]
  },
  {
   "cell_type": "code",
   "execution_count": 22,
   "id": "22922541",
   "metadata": {},
   "outputs": [
    {
     "data": {
      "text/plain": [
       "<matplotlib.image.AxesImage at 0x2331bbe4700>"
      ]
     },
     "execution_count": 22,
     "metadata": {},
     "output_type": "execute_result"
    },
    {
     "data": {
      "image/png": "[encoded data removed]",
      "text/plain": [
       "<Figure size 288x288 with 1 Axes>"
      ]
     },
     "metadata": {
      "needs_background": "light"
     },
     "output_type": "display_data"
    }
   ],
   "source": []
  },
  {
   "cell_type": "code",
   "execution_count": null,
   "id": "d601b76a",
   "metadata": {},
   "outputs": [],
   "source": []
  },
  {
   "cell_type": "code",
   "execution_count": null,
   "id": "d7407948",
   "metadata": {},
   "outputs": [],
   "source": []
  },
  {
   "cell_type": "code",
   "execution_count": null,
   "id": "550dc838",
   "metadata": {},
   "outputs": [],
   "source": []
  },
  {
   "cell_type": "code",
   "execution_count": null,
   "id": "84fefb8d",
   "metadata": {},
   "outputs": [],
   "source": []
  },
  {
   "cell_type": "code",
   "execution_count": null,
   "id": "14ad6401",
   "metadata": {},
   "outputs": [],
   "source": []
  },
  {
   "cell_type": "code",
   "execution_count": null,
   "id": "babbcbb6",
   "metadata": {},
   "outputs": [],
   "source": []
  },
  {
   "cell_type": "code",
   "execution_count": null,
   "id": "c41ab826",
   "metadata": {},
   "outputs": [],
   "source": [
    "np.array(X_train).shape"
   ]
  },
  {
   "cell_type": "code",
   "execution_count": null,
   "id": "906de110",
   "metadata": {},
   "outputs": [],
   "source": []
  },
  {
   "cell_type": "code",
   "execution_count": null,
   "id": "c54be29f",
   "metadata": {},
   "outputs": [],
   "source": []
  },
  {
   "cell_type": "code",
   "execution_count": null,
   "id": "b2ad1ce6",
   "metadata": {},
   "outputs": [],
   "source": []
  },
  {
   "cell_type": "code",
   "execution_count": null,
   "id": "bd8d7ba3",
   "metadata": {},
   "outputs": [],
   "source": []
  },
  {
   "cell_type": "code",
   "execution_count": null,
   "id": "311b3abb",
   "metadata": {},
   "outputs": [],
   "source": [
    "image_batch.numpy().reshape(IMAGE_SIZE, IMAGE_SIZE).flatten()"
   ]
  },
  {
   "cell_type": "code",
   "execution_count": null,
   "id": "486e69f3",
   "metadata": {},
   "outputs": [],
   "source": [
    "training_dataset"
   ]
  },
  {
   "cell_type": "code",
   "execution_count": null,
   "id": "a6b7e570",
   "metadata": {},
   "outputs": [],
   "source": [
    "X_train=[]\n",
    "y_train=[]\n",
    "for i_ in range(len(training_dataset)):\n",
    "    for image_batch, labels_batch in training_dataset:\n",
    "        X_train.append(image_batch[i_].numpy())\n",
    "        y_train.append(int(class_names[labels_batch]))\n",
    "        \n",
    "    \n",
    "    "
   ]
  },
  {
   "cell_type": "code",
   "execution_count": null,
   "id": "3423e108",
   "metadata": {},
   "outputs": [],
   "source": [
    "X_test=[]\n",
    "y_test=[]\n",
    "for i_ in range(len(validation_dataset)):\n",
    "    for image_batch, labels_batch in validation_dataset:\n",
    "        X_test.append(image_batch[i_].numpy())\n",
    "        y_test.append(int(class_names[labels_batch]))"
   ]
  },
  {
   "cell_type": "code",
   "execution_count": null,
   "id": "1cb1497b",
   "metadata": {},
   "outputs": [],
   "source": [
    "y_train"
   ]
  },
  {
   "cell_type": "code",
   "execution_count": null,
   "id": "7fa49be1",
   "metadata": {},
   "outputs": [],
   "source": []
  },
  {
   "cell_type": "code",
   "execution_count": null,
   "id": "98314e1c",
   "metadata": {},
   "outputs": [],
   "source": []
  },
  {
   "cell_type": "code",
   "execution_count": null,
   "id": "af228a8e",
   "metadata": {},
   "outputs": [],
   "source": []
  },
  {
   "cell_type": "code",
   "execution_count": null,
   "id": "159cb561",
   "metadata": {},
   "outputs": [],
   "source": []
  },
  {
   "cell_type": "code",
   "execution_count": null,
   "id": "6bfa3f4d",
   "metadata": {},
   "outputs": [],
   "source": [
    "for image_batch, labels_batch in dataset.take(2):\n",
    "    print(class_names[labels_batch])"
   ]
  },
  {
   "cell_type": "code",
   "execution_count": null,
   "id": "c9244c24",
   "metadata": {},
   "outputs": [],
   "source": [
    "for image_batch, labels_batch in dataset.take(1):\n",
    "    check= image_batch[0]\n",
    "    print(image_batch[0].shape)\n",
    "    print(class_names[labels_batch[0]])\n",
    "    print(abc)"
   ]
  },
  {
   "cell_type": "code",
   "execution_count": null,
   "id": "ed96b364",
   "metadata": {},
   "outputs": [],
   "source": [
    "check= check.numpy().astype(\"uint8\").reshape(IMAGE_SIZE, IMAGE_SIZE)"
   ]
  },
  {
   "cell_type": "code",
   "execution_count": null,
   "id": "1eeffced",
   "metadata": {},
   "outputs": [],
   "source": [
    "check"
   ]
  },
  {
   "cell_type": "code",
   "execution_count": null,
   "id": "e48cf272",
   "metadata": {},
   "outputs": [],
   "source": []
  },
  {
   "cell_type": "code",
   "execution_count": null,
   "id": "7cfd8d8e",
   "metadata": {},
   "outputs": [],
   "source": [
    "for image_batch, labels_batch in dataset.take(1):"
   ]
  },
  {
   "cell_type": "code",
   "execution_count": null,
   "id": "9cc692d5",
   "metadata": {},
   "outputs": [],
   "source": []
  },
  {
   "cell_type": "code",
   "execution_count": null,
   "id": "dfe2b41d",
   "metadata": {},
   "outputs": [],
   "source": []
  },
  {
   "cell_type": "code",
   "execution_count": null,
   "id": "b0af2701",
   "metadata": {},
   "outputs": [],
   "source": []
  },
  {
   "cell_type": "markdown",
   "id": "ebef6751",
   "metadata": {},
   "source": [
    "## Visualize some of the images from our dataset"
   ]
  },
  {
   "cell_type": "code",
   "execution_count": null,
   "id": "a30166dd",
   "metadata": {},
   "outputs": [],
   "source": [
    "plt.figure(figsize=(10, 10))\n",
    "for image_batch, labels_batch in dataset.take(1):\n",
    "    for i in range(12):\n",
    "        ax = plt.subplot(3, 4, i + 1)\n",
    "        plt.imshow(image_batch[i].numpy().astype(\"uint8\"))\n",
    "        plt.title(class_names[labels_batch[i]])\n",
    "        plt.axis(\"off\")"
   ]
  },
  {
   "cell_type": "markdown",
   "id": "daf5e86d",
   "metadata": {},
   "source": [
    "## Train/validation/test split"
   ]
  },
  {
   "cell_type": "code",
   "execution_count": null,
   "id": "076e9769",
   "metadata": {},
   "outputs": [],
   "source": [
    "def get_dataset_partitions_tf(ds, train_split=0.8, val_split=0.1, test_split=0.1, shuffle=True, shuffle_size=10000):\n",
    "    assert (train_split + test_split + val_split) == 1\n",
    "    \n",
    "    ds_size = len(ds)\n",
    "    \n",
    "    if shuffle:\n",
    "        ds = ds.shuffle(shuffle_size, seed=12)\n",
    "    \n",
    "    train_size = int(train_split * ds_size)\n",
    "    val_size = int(val_split * ds_size)\n",
    "    \n",
    "    train_ds = ds.take(train_size)    \n",
    "    val_ds = ds.skip(train_size).take(val_size)\n",
    "    test_ds = ds.skip(train_size).skip(val_size)\n",
    "    \n",
    "    return train_ds, val_ds, test_ds"
   ]
  },
  {
   "cell_type": "code",
   "execution_count": null,
   "id": "c16fe1b6",
   "metadata": {},
   "outputs": [],
   "source": [
    "train_ds, val_ds, test_ds = get_dataset_partitions_tf(dataset)"
   ]
  },
  {
   "cell_type": "code",
   "execution_count": null,
   "id": "332d90e0",
   "metadata": {},
   "outputs": [],
   "source": [
    "len(train_ds), len(val_ds), len(test_ds)"
   ]
  },
  {
   "cell_type": "code",
   "execution_count": null,
   "id": "bc44e07c",
   "metadata": {},
   "outputs": [],
   "source": []
  },
  {
   "cell_type": "code",
   "execution_count": null,
   "id": "3fab5e9e",
   "metadata": {},
   "outputs": [],
   "source": []
  },
  {
   "cell_type": "markdown",
   "id": "9d6ef2a9",
   "metadata": {},
   "source": [
    "## Cache, Shuffle, and Prefetch the Dataset"
   ]
  },
  {
   "cell_type": "code",
   "execution_count": null,
   "id": "fb436123",
   "metadata": {},
   "outputs": [],
   "source": [
    "resize_and_rescale = tf.keras.Sequential([\n",
    "  layers.experimental.preprocessing.Resizing(IMAGE_SIZE, IMAGE_SIZE),\n",
    "  layers.experimental.preprocessing.Rescaling(1./255),\n",
    "])"
   ]
  },
  {
   "cell_type": "code",
   "execution_count": null,
   "id": "af14aa6e",
   "metadata": {},
   "outputs": [],
   "source": [
    "data_augmentation = tf.keras.Sequential([\n",
    "  layers.experimental.preprocessing.RandomFlip(\"horizontal_and_vertical\"),\n",
    "  layers.experimental.preprocessing.RandomRotation(0.2),\n",
    "])"
   ]
  },
  {
   "cell_type": "code",
   "execution_count": null,
   "id": "782192ec",
   "metadata": {},
   "outputs": [],
   "source": [
    "train_ds = train_ds.map(\n",
    "    lambda x, y: (data_augmentation(x, training=True), y)\n",
    ").prefetch(buffer_size=tf.data.AUTOTUNE)"
   ]
  },
  {
   "cell_type": "code",
   "execution_count": null,
   "id": "85034f7a",
   "metadata": {},
   "outputs": [],
   "source": [
    "input_shape = (BATCH_SIZE, IMAGE_SIZE, IMAGE_SIZE, CHANNELS)\n",
    "n_classes = 10\n",
    "\n",
    "model = models.Sequential([\n",
    "    resize_and_rescale,\n",
    "    data_augmentation,\n",
    "    layers.Conv2D(32, kernel_size = (3,3), activation='relu', input_shape=input_shape),\n",
    "    layers.MaxPooling2D((2, 2)),\n",
    "    layers.Conv2D(64,  kernel_size = (3,3), activation='relu'),\n",
    "    layers.MaxPooling2D((2, 2)),\n",
    "    layers.Conv2D(64,  kernel_size = (3,3), activation='relu'),\n",
    "    layers.MaxPooling2D((2, 2)),\n",
    "    layers.Conv2D(64, (3, 3), activation='relu'),\n",
    "    layers.MaxPooling2D((2, 2)),\n",
    "    layers.Conv2D(64, (3, 3), activation='relu'),\n",
    "    layers.MaxPooling2D((2, 2)),\n",
    "    layers.Conv2D(64, (3, 3), activation='relu'),\n",
    "    layers.MaxPooling2D((2, 2)),\n",
    "    layers.Flatten(),\n",
    "    layers.Dense(64, activation='relu'),\n",
    "    layers.Dense(n_classes, activation='softmax'),\n",
    "])\n",
    "\n",
    "model.build(input_shape=input_shape)"
   ]
  },
  {
   "cell_type": "code",
   "execution_count": null,
   "id": "298f6480",
   "metadata": {},
   "outputs": [],
   "source": []
  }
 ],
 "metadata": {
  "kernelspec": {
   "display_name": "Python 3 (ipykernel)",
   "language": "python",
   "name": "python3"
  },
  "language_info": {
   "codemirror_mode": {
    "name": "ipython",
    "version": 3
   },
   "file_extension": ".py",
   "mimetype": "text/x-python",
   "name": "python",
   "nbconvert_exporter": "python",
   "pygments_lexer": "ipython3",
   "version": "3.8.5"
  }
 },
 "nbformat": 4,
 "nbformat_minor": 5
}
