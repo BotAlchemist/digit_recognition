{
 "cells": [
  {
   "cell_type": "code",
   "execution_count": null,
   "id": "e4b65098",
   "metadata": {},
   "outputs": [],
   "source": [
    "# https://www.kaggle.com/datasets/karnikakapoor/digits"
   ]
  },
  {
   "cell_type": "code",
   "execution_count": 1,
   "id": "faafaa3b",
   "metadata": {},
   "outputs": [],
   "source": [
    "import tensorflow as tf\n",
    "from tensorflow import keras\n",
    "from tensorflow.keras import models, layers\n",
    "import matplotlib.pyplot as plt\n",
    "from IPython.display import HTML\n",
    "import numpy as np"
   ]
  },
  {
   "cell_type": "markdown",
   "id": "db9143af",
   "metadata": {},
   "source": [
    "## Set constants"
   ]
  },
  {
   "cell_type": "code",
   "execution_count": 2,
   "id": "05f6420b",
   "metadata": {},
   "outputs": [],
   "source": [
    "BATCH_SIZE = 32\n",
    "IMAGE_SIZE = 32\n",
    "CHANNELS=3\n",
    "EPOCHS=10"
   ]
  },
  {
   "cell_type": "markdown",
   "id": "c94bfd0d",
   "metadata": {},
   "source": [
    "## Import data into tensorflow dataset object"
   ]
  },
  {
   "cell_type": "code",
   "execution_count": 3,
   "id": "8758b2dd",
   "metadata": {},
   "outputs": [
    {
     "name": "stdout",
     "output_type": "stream",
     "text": [
      "Found 10160 files belonging to 10 classes.\n"
     ]
    }
   ],
   "source": [
    "dataset = tf.keras.preprocessing.image_dataset_from_directory(\n",
    "    \"Digits\",\n",
    "    seed=123,\n",
    "    color_mode='grayscale',\n",
    "    shuffle=True,\n",
    "    image_size=(IMAGE_SIZE,IMAGE_SIZE),\n",
    "    batch_size=None\n",
    "    \n",
    ")\n"
   ]
  },
  {
   "cell_type": "code",
   "execution_count": 4,
   "id": "53704e44",
   "metadata": {},
   "outputs": [
    {
     "name": "stdout",
     "output_type": "stream",
     "text": [
      "Found 10160 files belonging to 10 classes.\n",
      "Using 8128 files for training.\n",
      "Found 10160 files belonging to 10 classes.\n",
      "Using 2032 files for validation.\n"
     ]
    }
   ],
   "source": [
    "training_dataset = tf.keras.preprocessing.image_dataset_from_directory(\n",
    "    \"Digits\",\n",
    "    seed=123,\n",
    "    validation_split=0.2,\n",
    "    subset=\"training\",\n",
    "    color_mode='grayscale',\n",
    "    shuffle=True,\n",
    "    image_size=(IMAGE_SIZE,IMAGE_SIZE),\n",
    "    batch_size=None\n",
    "    \n",
    ")\n",
    "\n",
    "validation_dataset = tf.keras.preprocessing.image_dataset_from_directory(\n",
    "    \"Digits\",\n",
    "    seed=123,\n",
    "    validation_split=0.2,\n",
    "    subset=\"validation\",\n",
    "    color_mode='grayscale',\n",
    "    shuffle=True,\n",
    "    image_size=(IMAGE_SIZE,IMAGE_SIZE),\n",
    "    batch_size=None\n",
    "    \n",
    ")\n"
   ]
  },
  {
   "cell_type": "code",
   "execution_count": null,
   "id": "9f589ef2",
   "metadata": {},
   "outputs": [],
   "source": []
  },
  {
   "cell_type": "code",
   "execution_count": 5,
   "id": "22d5eeac",
   "metadata": {},
   "outputs": [
    {
     "data": {
      "text/plain": [
       "['0', '1', '2', '3', '4', '5', '6', '7', '8', '9']"
      ]
     },
     "execution_count": 5,
     "metadata": {},
     "output_type": "execute_result"
    }
   ],
   "source": [
    "class_names = training_dataset.class_names\n",
    "class_names"
   ]
  },
  {
   "cell_type": "code",
   "execution_count": 6,
   "id": "ad418d1c",
   "metadata": {},
   "outputs": [
    {
     "data": {
      "text/plain": [
       "['0', '1', '2', '3', '4', '5', '6', '7', '8', '9']"
      ]
     },
     "execution_count": 6,
     "metadata": {},
     "output_type": "execute_result"
    }
   ],
   "source": [
    "class_names = validation_dataset.class_names\n",
    "class_names"
   ]
  },
  {
   "cell_type": "code",
   "execution_count": 7,
   "id": "cf16497b",
   "metadata": {},
   "outputs": [],
   "source": [
    "X_train=[]\n",
    "X_train_flatten=[]\n",
    "y_train=[]\n",
    "for image_batch, labels_batch in training_dataset:\n",
    "    X_train.append(image_batch.numpy().reshape(IMAGE_SIZE, IMAGE_SIZE))\n",
    "    X_train_flatten.append(image_batch.numpy().reshape(IMAGE_SIZE, IMAGE_SIZE).flatten())\n",
    "    y_train.append(labels_batch.numpy())\n",
    "X_train= np.array(X_train)\n",
    "y_train= np.array(y_train)"
   ]
  },
  {
   "cell_type": "code",
   "execution_count": 8,
   "id": "12bbcc4d",
   "metadata": {},
   "outputs": [],
   "source": [
    "X_test=[]\n",
    "X_test_flatten=[]\n",
    "y_test=[]\n",
    "for image_batch, labels_batch in validation_dataset:\n",
    "    X_test.append(image_batch.numpy().reshape(IMAGE_SIZE, IMAGE_SIZE))\n",
    "    X_test_flatten.append(image_batch.numpy().reshape(IMAGE_SIZE, IMAGE_SIZE).flatten())\n",
    "    y_test.append(labels_batch.numpy())\n",
    "X_test= np.array(X_test)\n",
    "y_test= np.array(y_test)"
   ]
  },
  {
   "cell_type": "code",
   "execution_count": 9,
   "id": "a27b4301",
   "metadata": {},
   "outputs": [
    {
     "data": {
      "text/plain": [
       "((8128, 32, 32), (2032, 32, 32))"
      ]
     },
     "execution_count": 9,
     "metadata": {},
     "output_type": "execute_result"
    }
   ],
   "source": [
    "X_train.shape, X_test.shape"
   ]
  },
  {
   "cell_type": "code",
   "execution_count": 10,
   "id": "db8320be",
   "metadata": {},
   "outputs": [],
   "source": [
    "X_train_flatten= np.array(X_train_flatten)\n",
    "X_test_flatten= np.array(X_test_flatten)"
   ]
  },
  {
   "cell_type": "code",
   "execution_count": 11,
   "id": "79ba802a",
   "metadata": {},
   "outputs": [
    {
     "data": {
      "text/plain": [
       "((8128, 1024), (2032, 1024))"
      ]
     },
     "execution_count": 11,
     "metadata": {},
     "output_type": "execute_result"
    }
   ],
   "source": [
    "X_train_flatten.shape ,X_test_flatten.shape"
   ]
  },
  {
   "cell_type": "code",
   "execution_count": null,
   "id": "ef94d37c",
   "metadata": {},
   "outputs": [],
   "source": []
  },
  {
   "cell_type": "code",
   "execution_count": 12,
   "id": "3071a9e2",
   "metadata": {},
   "outputs": [],
   "source": [
    "# Scaling\n",
    "X_train_flatten = X_train_flatten / 255\n",
    "X_test_flatten = X_test_flatten / 255"
   ]
  },
  {
   "cell_type": "code",
   "execution_count": 13,
   "id": "f010dcf5",
   "metadata": {},
   "outputs": [
    {
     "name": "stdout",
     "output_type": "stream",
     "text": [
      "Epoch 1/5\n",
      "254/254 [==============================] - 1s 1ms/step - loss: 0.8956 - accuracy: 0.7790\n",
      "Epoch 2/5\n",
      "254/254 [==============================] - 0s 1ms/step - loss: 0.3646 - accuracy: 0.9124\n",
      "Epoch 3/5\n",
      "254/254 [==============================] - 0s 1ms/step - loss: 0.2868 - accuracy: 0.9215\n",
      "Epoch 4/5\n",
      "254/254 [==============================] - 0s 1ms/step - loss: 0.2426 - accuracy: 0.9337\n",
      "Epoch 5/5\n",
      "254/254 [==============================] - 0s 1ms/step - loss: 0.2095 - accuracy: 0.9432\n"
     ]
    },
    {
     "data": {
      "text/plain": [
       "<keras.callbacks.History at 0x23312e48f40>"
      ]
     },
     "execution_count": 13,
     "metadata": {},
     "output_type": "execute_result"
    }
   ],
   "source": [
    "# kera model build\n",
    "\n",
    "tf_model = keras.Sequential([\n",
    "    keras.layers.Dense(10, input_shape=(IMAGE_SIZE*IMAGE_SIZE,), activation='sigmoid')\n",
    "])\n",
    "\n",
    "tf_model.compile(optimizer='adam',\n",
    "              loss='sparse_categorical_crossentropy',\n",
    "              metrics=['accuracy'])\n",
    "\n",
    "tf_model.fit(X_train_flatten, y_train, epochs=5)"
   ]
  },
  {
   "cell_type": "code",
   "execution_count": 17,
   "id": "cf56a082",
   "metadata": {},
   "outputs": [
    {
     "name": "stdout",
     "output_type": "stream",
     "text": [
      "64/64 [==============================] - 0s 1ms/step - loss: 0.2244 - accuracy: 0.9380\n"
     ]
    },
    {
     "data": {
      "text/plain": [
       "[0.2244388312101364, 0.9379921555519104]"
      ]
     },
     "execution_count": 17,
     "metadata": {},
     "output_type": "execute_result"
    }
   ],
   "source": [
    "# evaluate model\n",
    "\n",
    "tf_model.evaluate(X_test_flatten, y_test)"
   ]
  },
  {
   "cell_type": "code",
   "execution_count": 19,
   "id": "7b5f00c7",
   "metadata": {},
   "outputs": [
    {
     "name": "stdout",
     "output_type": "stream",
     "text": [
      "64/64 [==============================] - 0s 862us/step\n"
     ]
    },
    {
     "data": {
      "text/plain": [
       "array([0.009586  , 0.90571725, 0.2385535 , 0.05679846, 0.18087143,\n",
       "       0.08468521, 0.01942252, 0.3036323 , 0.01541028, 0.03853916],\n",
       "      dtype=float32)"
      ]
     },
     "execution_count": 19,
     "metadata": {},
     "output_type": "execute_result"
    }
   ],
   "source": [
    "y_predicted = tf_model.predict(X_test_flatten)\n",
    "y_predicted[0]"
   ]
  },
  {
   "cell_type": "code",
   "execution_count": 27,
   "id": "879b0618",
   "metadata": {},
   "outputs": [
    {
     "data": {
      "text/plain": [
       "(3, <matplotlib.image.AxesImage at 0x2331bd975e0>)"
      ]
     },
     "execution_count": 27,
     "metadata": {},
     "output_type": "execute_result"
    },
    {
     "data": {
      "image/png": "[encoded data removed]",
      "text/plain": [
       "<Figure size 288x288 with 1 Axes>"
      ]
     },
     "metadata": {
      "needs_background": "light"
     },
     "output_type": "display_data"
    }
   ],
   "source": [
    "no_= 109\n",
    "np.argmax(y_predicted[no_]), plt.matshow(X_test[no_])"
   ]
  },
  {
   "cell_type": "code",
   "execution_count": 28,
   "id": "d27f45bc",
   "metadata": {},
   "outputs": [
    {
     "data": {
      "text/plain": [
       "<tf.Tensor: shape=(10, 10), dtype=int32, numpy=\n",
       "array([[176,   0,   3,   0,   5,   2,   8,   0,   2,   0],\n",
       "       [  0, 197,   4,   2,   0,   4,   0,   2,   1,   0],\n",
       "       [  0,   1, 195,   2,   0,   1,   0,   1,   2,   0],\n",
       "       [  2,   4,   2, 197,   0,   5,   0,   1,   1,   0],\n",
       "       [  0,   6,   0,   0, 203,   0,   0,   0,   0,   2],\n",
       "       [  0,   3,   1,   2,   2, 178,   4,   0,   0,   0],\n",
       "       [  1,   0,   0,   1,   2,   1, 189,   0,   1,   0],\n",
       "       [  0,   1,   4,   2,   2,   0,   0, 206,   4,   0],\n",
       "       [  1,   3,   1,   3,   1,   1,   5,   0, 196,   1],\n",
       "       [  3,   0,   1,   3,   1,   3,   2,   0,   3, 169]])>"
      ]
     },
     "execution_count": 28,
     "metadata": {},
     "output_type": "execute_result"
    }
   ],
   "source": [
    "# Confusion matrix\n",
    "y_predicted_labels = [np.argmax(i) for i in y_predicted]\n",
    "cm = tf.math.confusion_matrix(labels=y_test,predictions=y_predicted_labels)\n",
    "cm"
   ]
  },
  {
   "cell_type": "code",
   "execution_count": 29,
   "id": "1daf9e53",
   "metadata": {},
   "outputs": [
    {
     "data": {
      "text/plain": [
       "Text(69.0, 0.5, 'Actual')"
      ]
     },
     "execution_count": 29,
     "metadata": {},
     "output_type": "execute_result"
    },
    {
     "data": {
      "image/png": "[encoded data removed]",
      "text/plain": [
       "<Figure size 720x504 with 2 Axes>"
      ]
     },
     "metadata": {
      "needs_background": "light"
     },
     "output_type": "display_data"
    }
   ],
   "source": [
    "import seaborn as sn\n",
    "plt.figure(figsize = (10,7))\n",
    "sn.heatmap(cm, annot=True, fmt='d')\n",
    "plt.xlabel('Predicted')\n",
    "plt.ylabel('Actual')"
   ]
  },
  {
   "cell_type": "code",
   "execution_count": null,
   "id": "be753a1a",
   "metadata": {},
   "outputs": [],
   "source": []
  },
  {
   "cell_type": "markdown",
   "id": "7ab51fd8",
   "metadata": {},
   "source": [
    "## Using hidden layers & flattening the input inside the sequence"
   ]
  },
  {
   "cell_type": "code",
   "execution_count": 32,
   "id": "3577eea0",
   "metadata": {},
   "outputs": [],
   "source": [
    "# Scaling\n",
    "X_train = X_train / 255\n",
    "X_test = X_test/ 255"
   ]
  },
  {
   "cell_type": "code",
   "execution_count": 33,
   "id": "8eec87d5",
   "metadata": {},
   "outputs": [
    {
     "name": "stdout",
     "output_type": "stream",
     "text": [
      "Epoch 1/10\n",
      "254/254 [==============================] - 2s 4ms/step - loss: 0.7247 - accuracy: 0.8018\n",
      "Epoch 2/10\n",
      "254/254 [==============================] - 1s 5ms/step - loss: 0.2888 - accuracy: 0.9181\n",
      "Epoch 3/10\n",
      "254/254 [==============================] - 1s 4ms/step - loss: 0.2160 - accuracy: 0.9352\n",
      "Epoch 4/10\n",
      "254/254 [==============================] - 1s 4ms/step - loss: 0.1965 - accuracy: 0.9401\n",
      "Epoch 5/10\n",
      "254/254 [==============================] - 1s 4ms/step - loss: 0.1688 - accuracy: 0.9488\n",
      "Epoch 6/10\n",
      "254/254 [==============================] - 1s 4ms/step - loss: 0.1428 - accuracy: 0.9560\n",
      "Epoch 7/10\n",
      "254/254 [==============================] - 1s 4ms/step - loss: 0.1331 - accuracy: 0.9587\n",
      "Epoch 8/10\n",
      "254/254 [==============================] - 1s 4ms/step - loss: 0.1259 - accuracy: 0.9617\n",
      "Epoch 9/10\n",
      "254/254 [==============================] - 1s 5ms/step - loss: 0.1234 - accuracy: 0.9631\n",
      "Epoch 10/10\n",
      "254/254 [==============================] - 1s 4ms/step - loss: 0.1093 - accuracy: 0.9659\n"
     ]
    },
    {
     "data": {
      "text/plain": [
       "<keras.callbacks.History at 0x2331ee0dd90>"
      ]
     },
     "execution_count": 33,
     "metadata": {},
     "output_type": "execute_result"
    }
   ],
   "source": [
    "model = keras.Sequential([\n",
    "    keras.layers.Flatten(input_shape=(IMAGE_SIZE, IMAGE_SIZE)),\n",
    "    keras.layers.Dense(100, activation='relu'),\n",
    "    keras.layers.Dense(10, activation='sigmoid')\n",
    "])\n",
    "\n",
    "model.compile(optimizer='adam',\n",
    "              loss='sparse_categorical_crossentropy',\n",
    "              metrics=['accuracy'])\n",
    "\n",
    "model.fit(X_train, y_train, epochs=10)"
   ]
  },
  {
   "cell_type": "code",
   "execution_count": 37,
   "id": "f5bee87e",
   "metadata": {},
   "outputs": [
    {
     "name": "stdout",
     "output_type": "stream",
     "text": [
      "64/64 [==============================] - 0s 3ms/step - loss: 0.1397 - accuracy: 0.9592\n"
     ]
    },
    {
     "data": {
      "text/plain": [
       "[0.13966894149780273, 0.9591535329818726]"
      ]
     },
     "execution_count": 37,
     "metadata": {},
     "output_type": "execute_result"
    }
   ],
   "source": [
    "# evaluate model\n",
    "\n",
    "model.evaluate(X_test, y_test)"
   ]
  },
  {
   "cell_type": "code",
   "execution_count": 39,
   "id": "afbb9b8f",
   "metadata": {},
   "outputs": [
    {
     "name": "stdout",
     "output_type": "stream",
     "text": [
      "64/64 [==============================] - 0s 3ms/step\n"
     ]
    },
    {
     "data": {
      "text/plain": [
       "array([0.01065173, 0.99983275, 0.72412497, 0.28521985, 0.47964364,\n",
       "       0.46621996, 0.00124638, 0.9709624 , 0.05621742, 0.9105049 ],\n",
       "      dtype=float32)"
      ]
     },
     "execution_count": 39,
     "metadata": {},
     "output_type": "execute_result"
    }
   ],
   "source": [
    "y_predicted = model.predict(X_test)\n",
    "y_predicted[0]"
   ]
  },
  {
   "cell_type": "code",
   "execution_count": 40,
   "id": "b80670ec",
   "metadata": {},
   "outputs": [
    {
     "data": {
      "text/plain": [
       "(1, <matplotlib.image.AxesImage at 0x23319b50a30>)"
      ]
     },
     "execution_count": 40,
     "metadata": {},
     "output_type": "execute_result"
    },
    {
     "data": {
      "image/png": "[encoded data removed]",
      "text/plain": [
       "<Figure size 288x288 with 1 Axes>"
      ]
     },
     "metadata": {
      "needs_background": "light"
     },
     "output_type": "display_data"
    }
   ],
   "source": [
    "no_= 0\n",
    "np.argmax(y_predicted[no_]), plt.matshow(X_test[no_])"
   ]
  },
  {
   "cell_type": "code",
   "execution_count": 41,
   "id": "a8c57fd3",
   "metadata": {},
   "outputs": [
    {
     "data": {
      "text/plain": [
       "Text(69.0, 0.5, 'Actual')"
      ]
     },
     "execution_count": 41,
     "metadata": {},
     "output_type": "execute_result"
    },
    {
     "data": {
      "image/png": "[encoded data removed]",
      "text/plain": [
       "<Figure size 720x504 with 2 Axes>"
      ]
     },
     "metadata": {
      "needs_background": "light"
     },
     "output_type": "display_data"
    }
   ],
   "source": [
    "# Confusion matrix\n",
    "y_predicted_labels = [np.argmax(i) for i in y_predicted]\n",
    "cm = tf.math.confusion_matrix(labels=y_test,predictions=y_predicted_labels)\n",
    "plt.figure(figsize = (10,7))\n",
    "sn.heatmap(cm, annot=True, fmt='d')\n",
    "plt.xlabel('Predicted')\n",
    "plt.ylabel('Actual')"
   ]
  },
  {
   "cell_type": "code",
   "execution_count": 42,
   "id": "a9a186ba",
   "metadata": {},
   "outputs": [],
   "source": [
    "# save model\n",
    "filename= 'digit_train.h5'\n",
    "model.save(filename)"
   ]
  },
  {
   "cell_type": "code",
   "execution_count": 44,
   "id": "a358df2d",
   "metadata": {},
   "outputs": [],
   "source": [
    "# load model\n",
    "from tensorflow.keras.models import load_model"
   ]
  },
  {
   "cell_type": "code",
   "execution_count": 45,
   "id": "0da7179f",
   "metadata": {},
   "outputs": [],
   "source": [
    "loaded_model= load_model(filename)"
   ]
  },
  {
   "cell_type": "code",
   "execution_count": 70,
   "id": "48582c95",
   "metadata": {},
   "outputs": [
    {
     "data": {
      "text/plain": [
       "array([[[1., 1., 1., ..., 1., 1., 1.],\n",
       "        [1., 1., 1., ..., 1., 1., 1.],\n",
       "        [1., 1., 1., ..., 1., 1., 1.],\n",
       "        ...,\n",
       "        [1., 1., 1., ..., 1., 1., 1.],\n",
       "        [1., 1., 1., ..., 1., 1., 1.],\n",
       "        [1., 1., 1., ..., 1., 1., 1.]],\n",
       "\n",
       "       [[1., 1., 1., ..., 1., 1., 1.],\n",
       "        [1., 1., 1., ..., 1., 1., 1.],\n",
       "        [1., 1., 1., ..., 1., 1., 1.],\n",
       "        ...,\n",
       "        [1., 1., 1., ..., 1., 1., 1.],\n",
       "        [1., 1., 1., ..., 1., 1., 1.],\n",
       "        [1., 1., 1., ..., 1., 1., 1.]],\n",
       "\n",
       "       [[1., 1., 1., ..., 1., 1., 1.],\n",
       "        [1., 1., 1., ..., 1., 1., 1.],\n",
       "        [1., 1., 1., ..., 1., 1., 1.],\n",
       "        ...,\n",
       "        [1., 1., 1., ..., 1., 1., 1.],\n",
       "        [1., 1., 1., ..., 1., 1., 1.],\n",
       "        [1., 1., 1., ..., 1., 1., 1.]],\n",
       "\n",
       "       ...,\n",
       "\n",
       "       [[1., 1., 1., ..., 1., 1., 1.],\n",
       "        [1., 1., 1., ..., 1., 1., 1.],\n",
       "        [1., 1., 1., ..., 1., 1., 1.],\n",
       "        ...,\n",
       "        [1., 1., 1., ..., 1., 1., 1.],\n",
       "        [1., 1., 1., ..., 1., 1., 1.],\n",
       "        [1., 1., 1., ..., 1., 1., 1.]],\n",
       "\n",
       "       [[1., 1., 1., ..., 1., 1., 1.],\n",
       "        [1., 1., 1., ..., 1., 1., 1.],\n",
       "        [1., 1., 1., ..., 1., 1., 1.],\n",
       "        ...,\n",
       "        [1., 1., 1., ..., 1., 1., 1.],\n",
       "        [1., 1., 1., ..., 1., 1., 1.],\n",
       "        [1., 1., 1., ..., 1., 1., 1.]],\n",
       "\n",
       "       [[1., 1., 1., ..., 1., 1., 1.],\n",
       "        [1., 1., 1., ..., 1., 1., 1.],\n",
       "        [1., 1., 1., ..., 1., 1., 1.],\n",
       "        ...,\n",
       "        [1., 1., 1., ..., 1., 1., 1.],\n",
       "        [1., 1., 1., ..., 1., 1., 1.],\n",
       "        [1., 1., 1., ..., 1., 1., 1.]]], dtype=float32)"
      ]
     },
     "execution_count": 70,
     "metadata": {},
     "output_type": "execute_result"
    }
   ],
   "source": [
    "X_test"
   ]
  },
  {
   "cell_type": "code",
   "execution_count": 46,
   "id": "e5d2cb98",
   "metadata": {},
   "outputs": [
    {
     "name": "stdout",
     "output_type": "stream",
     "text": [
      "64/64 [==============================] - 0s 3ms/step\n"
     ]
    },
    {
     "data": {
      "text/plain": [
       "array([[1.0651733e-02, 9.9983275e-01, 7.2412497e-01, ..., 9.7096241e-01,\n",
       "        5.6217421e-02, 9.1050488e-01],\n",
       "       [9.9026513e-01, 1.6486761e-03, 1.2616334e-04, ..., 5.8305392e-05,\n",
       "        9.9847865e-01, 8.3723295e-01],\n",
       "       [9.9982584e-01, 2.2652290e-04, 8.1796972e-03, ..., 1.8664815e-04,\n",
       "        9.5999765e-01, 9.8476952e-01],\n",
       "       ...,\n",
       "       [6.6758561e-01, 9.9600405e-01, 9.9998832e-01, ..., 7.9643112e-01,\n",
       "        1.4145936e-02, 1.5561951e-02],\n",
       "       [9.8362511e-01, 6.3058594e-04, 1.0650958e-01, ..., 1.4570227e-01,\n",
       "        2.6120711e-02, 9.9473119e-01],\n",
       "       [9.9999702e-01, 2.0766785e-05, 1.6329136e-01, ..., 5.1509263e-04,\n",
       "        3.5737476e-01, 8.9175981e-01]], dtype=float32)"
      ]
     },
     "execution_count": 46,
     "metadata": {},
     "output_type": "execute_result"
    }
   ],
   "source": [
    "loaded_model.predict(X_test)"
   ]
  },
  {
   "cell_type": "markdown",
   "id": "949a4dc1",
   "metadata": {},
   "source": [
    "## Check on Test data"
   ]
  },
  {
   "cell_type": "code",
   "execution_count": 60,
   "id": "24d5f557",
   "metadata": {},
   "outputs": [
    {
     "data": {
      "text/plain": [
       "['Test\\\\img001-00013.png',\n",
       " 'Test\\\\img001-00014.png',\n",
       " 'Test\\\\img001-00015.png',\n",
       " 'Test\\\\img001-00016.png',\n",
       " 'Test\\\\img001-00017.png',\n",
       " 'Test\\\\img001-00018.png',\n",
       " 'Test\\\\img005-00013.png',\n",
       " 'Test\\\\img005-00014.png',\n",
       " 'Test\\\\img005-00015.png',\n",
       " 'Test\\\\img005-00016.png',\n",
       " 'Test\\\\img007-00013.png',\n",
       " 'Test\\\\img007-00014.png',\n",
       " 'Test\\\\img007-00015.png',\n",
       " 'Test\\\\img007-00016.png',\n",
       " 'Test\\\\img007-00017.png']"
      ]
     },
     "execution_count": 60,
     "metadata": {},
     "output_type": "execute_result"
    }
   ],
   "source": [
    "import glob\n",
    "all_files= glob.glob(\"Test/*\")\n",
    "all_files"
   ]
  },
  {
   "cell_type": "code",
   "execution_count": 74,
   "id": "8f33c0a0",
   "metadata": {},
   "outputs": [],
   "source": [
    "X_unseen=[]\n",
    "for i_ in all_files:\n",
    "    image=  tf.keras.preprocessing.image.load_img(\n",
    "        path= i_,\n",
    "        color_mode='grayscale',\n",
    "        target_size=(IMAGE_SIZE,IMAGE_SIZE),\n",
    "        )\n",
    "    \n",
    "    image_arr= tf.keras.preprocessing.image.img_to_array(image).reshape(IMAGE_SIZE, IMAGE_SIZE)\n",
    "    X_unseen.append(image_arr)\n",
    "\n",
    "X_unseen= np.array(X_unseen)"
   ]
  },
  {
   "cell_type": "code",
   "execution_count": 75,
   "id": "3f00765a",
   "metadata": {},
   "outputs": [
    {
     "data": {
      "text/plain": [
       "array([[255., 255., 255., ..., 255., 255., 255.],\n",
       "       [255., 255., 255., ..., 255., 255., 255.],\n",
       "       [255., 255., 255., ..., 255., 255., 255.],\n",
       "       ...,\n",
       "       [255., 255., 255., ..., 255., 255., 255.],\n",
       "       [255., 255., 255., ..., 255., 255., 255.],\n",
       "       [255., 255., 255., ..., 255., 255., 255.]], dtype=float32)"
      ]
     },
     "execution_count": 75,
     "metadata": {},
     "output_type": "execute_result"
    }
   ],
   "source": [
    "X_unseen[0]"
   ]
  },
  {
   "cell_type": "code",
   "execution_count": 76,
   "id": "3f0177ce",
   "metadata": {},
   "outputs": [
    {
     "data": {
      "text/plain": [
       "(15, 32, 32)"
      ]
     },
     "execution_count": 76,
     "metadata": {},
     "output_type": "execute_result"
    }
   ],
   "source": [
    "X_unseen.shape"
   ]
  },
  {
   "cell_type": "code",
   "execution_count": 77,
   "id": "68612d8f",
   "metadata": {},
   "outputs": [],
   "source": [
    "# Scaling\n",
    "X_unseen = X_unseen / 255"
   ]
  },
  {
   "cell_type": "code",
   "execution_count": 78,
   "id": "6e465453",
   "metadata": {},
   "outputs": [
    {
     "name": "stdout",
     "output_type": "stream",
     "text": [
      "1/1 [==============================] - 0s 60ms/step\n"
     ]
    },
    {
     "data": {
      "text/plain": [
       "array([[9.99993563e-01, 4.17426163e-05, 9.56998587e-01, 7.12460637e-01,\n",
       "        8.95485937e-05, 6.99553918e-03, 3.13248187e-01, 5.94184659e-02,\n",
       "        3.94979924e-01, 5.36508143e-01],\n",
       "       [9.99994457e-01, 2.94140295e-06, 9.92013812e-01, 7.59422779e-01,\n",
       "        2.68883014e-06, 8.37568310e-04, 2.46744268e-02, 8.34663361e-02,\n",
       "        1.50838062e-01, 7.68828154e-01],\n",
       "       [9.99814272e-01, 5.02490206e-04, 2.44347334e-01, 7.01366305e-01,\n",
       "        1.57201939e-05, 3.51175636e-01, 5.55141449e-01, 3.19551565e-02,\n",
       "        7.86279976e-01, 9.46988344e-01],\n",
       "       [9.99993145e-01, 1.33017957e-05, 1.76968992e-01, 6.22497022e-01,\n",
       "        2.14386250e-06, 5.88191867e-01, 7.52191603e-01, 6.85196277e-03,\n",
       "        7.01438665e-01, 9.57681894e-01],\n",
       "       [9.99953270e-01, 3.12334705e-05, 2.72710800e-01, 1.02544636e-01,\n",
       "        1.14225134e-01, 5.84297068e-02, 9.11815166e-01, 4.69001103e-03,\n",
       "        6.60979092e-01, 8.52345109e-01],\n",
       "       [9.99939561e-01, 3.62921992e-06, 3.12060267e-02, 1.46531994e-02,\n",
       "        6.87293887e-01, 1.44575924e-01, 9.93360758e-01, 4.22490353e-04,\n",
       "        8.93895924e-01, 9.59334552e-01],\n",
       "       [2.41958499e-01, 9.99634087e-01, 7.63986468e-01, 4.14376706e-01,\n",
       "        9.99987483e-01, 5.53114772e-01, 4.97845501e-01, 6.85509760e-03,\n",
       "        3.63663048e-01, 7.73582747e-03],\n",
       "       [1.54589757e-01, 9.98499930e-01, 7.74193853e-02, 5.64109460e-02,\n",
       "        1.00000000e+00, 8.50121200e-01, 9.98654664e-01, 1.68269980e-04,\n",
       "        9.90467072e-01, 5.67925768e-03],\n",
       "       [5.57249606e-01, 9.55085814e-01, 6.66762888e-01, 8.54867041e-01,\n",
       "        9.99828756e-01, 7.86294267e-02, 8.00150931e-02, 1.36408582e-02,\n",
       "        5.96654058e-01, 1.82171687e-02],\n",
       "       [3.82466286e-01, 8.29486787e-01, 9.02603790e-02, 4.76971328e-01,\n",
       "        9.99999881e-01, 2.85325181e-02, 9.60196137e-01, 8.76280596e-04,\n",
       "        9.88705933e-01, 5.53574739e-03],\n",
       "       [9.96601403e-01, 3.39329476e-04, 7.14438502e-04, 6.06718123e-01,\n",
       "        8.87668014e-01, 9.07597065e-01, 9.99997616e-01, 9.32103547e-04,\n",
       "        9.97929096e-01, 7.17265531e-02],\n",
       "       [9.99207318e-01, 1.41153243e-04, 1.86479487e-03, 2.33805746e-01,\n",
       "        8.02660525e-01, 8.85621905e-01, 9.99999821e-01, 2.60393688e-04,\n",
       "        9.99440193e-01, 9.49147791e-02],\n",
       "       [9.68289196e-01, 1.11434935e-02, 1.01981459e-04, 6.36445761e-01,\n",
       "        7.69695163e-01, 9.94378626e-01, 9.99994218e-01, 3.76774173e-04,\n",
       "        9.98795629e-01, 5.90743899e-01],\n",
       "       [9.97440219e-01, 1.69013045e-03, 3.44643122e-05, 1.81754708e-01,\n",
       "        8.51767540e-01, 9.93607521e-01, 9.99999583e-01, 3.07499577e-05,\n",
       "        9.99860406e-01, 7.03811407e-01],\n",
       "       [9.98906910e-01, 8.08653305e-04, 1.16761075e-03, 1.16447257e-02,\n",
       "        9.67301667e-01, 9.99110401e-01, 9.99999702e-01, 9.48388060e-06,\n",
       "        9.96855617e-01, 4.68545377e-01]], dtype=float32)"
      ]
     },
     "execution_count": 78,
     "metadata": {},
     "output_type": "execute_result"
    }
   ],
   "source": [
    "loaded_model.predict(X_unseen)"
   ]
  },
  {
   "cell_type": "code",
   "execution_count": null,
   "id": "bab52368",
   "metadata": {},
   "outputs": [],
   "source": []
  },
  {
   "cell_type": "code",
   "execution_count": null,
   "id": "541aedfc",
   "metadata": {},
   "outputs": [],
   "source": []
  },
  {
   "cell_type": "code",
   "execution_count": null,
   "id": "155f5368",
   "metadata": {},
   "outputs": [],
   "source": []
  },
  {
   "cell_type": "code",
   "execution_count": null,
   "id": "1bb8a1b0",
   "metadata": {},
   "outputs": [],
   "source": []
  },
  {
   "cell_type": "code",
   "execution_count": null,
   "id": "b4389bfc",
   "metadata": {},
   "outputs": [],
   "source": []
  },
  {
   "cell_type": "code",
   "execution_count": null,
   "id": "79f57626",
   "metadata": {},
   "outputs": [],
   "source": []
  },
  {
   "cell_type": "code",
   "execution_count": null,
   "id": "5a8aecd5",
   "metadata": {},
   "outputs": [],
   "source": []
  },
  {
   "cell_type": "code",
   "execution_count": 63,
   "id": "375dd954",
   "metadata": {},
   "outputs": [],
   "source": [
    "image=  tf.keras.preprocessing.image.load_img(\n",
    "    path= all_files[7],\n",
    "    color_mode='grayscale',\n",
    "    target_size=(IMAGE_SIZE,IMAGE_SIZE),\n",
    " \n",
    " )"
   ]
  },
  {
   "cell_type": "code",
   "execution_count": 64,
   "id": "b3327bfb",
   "metadata": {},
   "outputs": [
    {
     "data": {
      "image/png": "[encoded data removed]",
      "text/plain": [
       "<PIL.Image.Image image mode=L size=32x32 at 0x233173DAF40>"
      ]
     },
     "execution_count": 64,
     "metadata": {},
     "output_type": "execute_result"
    }
   ],
   "source": [
    "image"
   ]
  },
  {
   "cell_type": "code",
   "execution_count": 66,
   "id": "7eededf1",
   "metadata": {},
   "outputs": [
    {
     "data": {
      "text/plain": [
       "array([[255., 255., 255., ..., 255., 255., 255.],\n",
       "       [255., 255., 255., ..., 255., 255., 255.],\n",
       "       [255., 255., 255., ..., 255., 255., 255.],\n",
       "       ...,\n",
       "       [255., 255., 255., ..., 255., 255., 255.],\n",
       "       [255., 255., 255., ..., 255., 255., 255.],\n",
       "       [255., 255., 255., ..., 255., 255., 255.]], dtype=float32)"
      ]
     },
     "execution_count": 66,
     "metadata": {},
     "output_type": "execute_result"
    }
   ],
   "source": [
    "image= tf.keras.preprocessing.image.img_to_array(image).reshape(IMAGE_SIZE, IMAGE_SIZE)\n",
    "image\n",
    "\n",
    "#X_test.append(image_batch.numpy().reshape(IMAGE_SIZE, IMAGE_SIZE))"
   ]
  },
  {
   "cell_type": "code",
   "execution_count": null,
   "id": "d9d7f2ed",
   "metadata": {},
   "outputs": [],
   "source": []
  },
  {
   "cell_type": "code",
   "execution_count": null,
   "id": "3a85a641",
   "metadata": {},
   "outputs": [],
   "source": []
  },
  {
   "cell_type": "code",
   "execution_count": null,
   "id": "5a03e6eb",
   "metadata": {},
   "outputs": [],
   "source": []
  },
  {
   "cell_type": "code",
   "execution_count": null,
   "id": "4a446b02",
   "metadata": {},
   "outputs": [],
   "source": []
  },
  {
   "cell_type": "code",
   "execution_count": null,
   "id": "f08f30c2",
   "metadata": {},
   "outputs": [],
   "source": []
  },
  {
   "cell_type": "code",
   "execution_count": null,
   "id": "126f2a42",
   "metadata": {},
   "outputs": [],
   "source": []
  },
  {
   "cell_type": "code",
   "execution_count": null,
   "id": "02aa2230",
   "metadata": {},
   "outputs": [],
   "source": []
  },
  {
   "cell_type": "code",
   "execution_count": null,
   "id": "173fca99",
   "metadata": {},
   "outputs": [],
   "source": []
  },
  {
   "cell_type": "code",
   "execution_count": null,
   "id": "a43fce71",
   "metadata": {},
   "outputs": [],
   "source": []
  },
  {
   "cell_type": "code",
   "execution_count": null,
   "id": "f3e4c83a",
   "metadata": {},
   "outputs": [],
   "source": []
  },
  {
   "cell_type": "code",
   "execution_count": null,
   "id": "7bd46c06",
   "metadata": {},
   "outputs": [],
   "source": []
  },
  {
   "cell_type": "code",
   "execution_count": null,
   "id": "9f9c6298",
   "metadata": {},
   "outputs": [],
   "source": []
  },
  {
   "cell_type": "code",
   "execution_count": null,
   "id": "45b6cddc",
   "metadata": {},
   "outputs": [],
   "source": []
  },
  {
   "cell_type": "code",
   "execution_count": null,
   "id": "af89e826",
   "metadata": {},
   "outputs": [],
   "source": []
  },
  {
   "cell_type": "code",
   "execution_count": null,
   "id": "536e6bd5",
   "metadata": {},
   "outputs": [],
   "source": []
  },
  {
   "cell_type": "code",
   "execution_count": null,
   "id": "30b7d388",
   "metadata": {},
   "outputs": [],
   "source": []
  },
  {
   "cell_type": "code",
   "execution_count": null,
   "id": "cb562614",
   "metadata": {},
   "outputs": [],
   "source": []
  },
  {
   "cell_type": "code",
   "execution_count": null,
   "id": "df7bcf93",
   "metadata": {},
   "outputs": [],
   "source": [
    "np.array(X_train).shape"
   ]
  },
  {
   "cell_type": "code",
   "execution_count": null,
   "id": "b044e123",
   "metadata": {},
   "outputs": [],
   "source": []
  },
  {
   "cell_type": "code",
   "execution_count": null,
   "id": "8f68fbe6",
   "metadata": {},
   "outputs": [],
   "source": []
  },
  {
   "cell_type": "code",
   "execution_count": null,
   "id": "2ed7ef7a",
   "metadata": {},
   "outputs": [],
   "source": []
  },
  {
   "cell_type": "code",
   "execution_count": null,
   "id": "bf415589",
   "metadata": {},
   "outputs": [],
   "source": []
  },
  {
   "cell_type": "code",
   "execution_count": null,
   "id": "028f0378",
   "metadata": {},
   "outputs": [],
   "source": [
    "image_batch.numpy().reshape(IMAGE_SIZE, IMAGE_SIZE).flatten()"
   ]
  },
  {
   "cell_type": "code",
   "execution_count": null,
   "id": "f70622d7",
   "metadata": {},
   "outputs": [],
   "source": [
    "training_dataset"
   ]
  },
  {
   "cell_type": "code",
   "execution_count": null,
   "id": "4d8a2dda",
   "metadata": {},
   "outputs": [],
   "source": [
    "X_train=[]\n",
    "y_train=[]\n",
    "for i_ in range(len(training_dataset)):\n",
    "    for image_batch, labels_batch in training_dataset:\n",
    "        X_train.append(image_batch[i_].numpy())\n",
    "        y_train.append(int(class_names[labels_batch]))\n",
    "        \n",
    "    \n",
    "    "
   ]
  },
  {
   "cell_type": "code",
   "execution_count": null,
   "id": "b3d9beab",
   "metadata": {},
   "outputs": [],
   "source": [
    "X_test=[]\n",
    "y_test=[]\n",
    "for i_ in range(len(validation_dataset)):\n",
    "    for image_batch, labels_batch in validation_dataset:\n",
    "        X_test.append(image_batch[i_].numpy())\n",
    "        y_test.append(int(class_names[labels_batch]))"
   ]
  },
  {
   "cell_type": "code",
   "execution_count": null,
   "id": "2edebfa5",
   "metadata": {},
   "outputs": [],
   "source": [
    "y_train"
   ]
  },
  {
   "cell_type": "code",
   "execution_count": null,
   "id": "81d7a389",
   "metadata": {},
   "outputs": [],
   "source": []
  },
  {
   "cell_type": "code",
   "execution_count": null,
   "id": "1a61022e",
   "metadata": {},
   "outputs": [],
   "source": []
  },
  {
   "cell_type": "code",
   "execution_count": null,
   "id": "47851879",
   "metadata": {},
   "outputs": [],
   "source": []
  },
  {
   "cell_type": "code",
   "execution_count": null,
   "id": "ff02e572",
   "metadata": {},
   "outputs": [],
   "source": []
  },
  {
   "cell_type": "code",
   "execution_count": null,
   "id": "7afeb8ee",
   "metadata": {},
   "outputs": [],
   "source": [
    "for image_batch, labels_batch in dataset.take(2):\n",
    "    print(class_names[labels_batch])"
   ]
  },
  {
   "cell_type": "code",
   "execution_count": null,
   "id": "474e9f84",
   "metadata": {},
   "outputs": [],
   "source": [
    "for image_batch, labels_batch in dataset.take(1):\n",
    "    check= image_batch[0]\n",
    "    print(image_batch[0].shape)\n",
    "    print(class_names[labels_batch[0]])\n",
    "    print(abc)"
   ]
  },
  {
   "cell_type": "code",
   "execution_count": null,
   "id": "358b23e3",
   "metadata": {},
   "outputs": [],
   "source": [
    "check= check.numpy().astype(\"uint8\").reshape(IMAGE_SIZE, IMAGE_SIZE)"
   ]
  },
  {
   "cell_type": "code",
   "execution_count": null,
   "id": "307a2b8f",
   "metadata": {},
   "outputs": [],
   "source": [
    "check"
   ]
  },
  {
   "cell_type": "code",
   "execution_count": null,
   "id": "b0a326aa",
   "metadata": {},
   "outputs": [],
   "source": []
  },
  {
   "cell_type": "code",
   "execution_count": null,
   "id": "3c232e6d",
   "metadata": {},
   "outputs": [],
   "source": [
    "for image_batch, labels_batch in dataset.take(1):"
   ]
  },
  {
   "cell_type": "code",
   "execution_count": null,
   "id": "96c03fdf",
   "metadata": {},
   "outputs": [],
   "source": []
  },
  {
   "cell_type": "code",
   "execution_count": null,
   "id": "61c1ceb8",
   "metadata": {},
   "outputs": [],
   "source": []
  },
  {
   "cell_type": "code",
   "execution_count": null,
   "id": "212aacc0",
   "metadata": {},
   "outputs": [],
   "source": []
  },
  {
   "cell_type": "markdown",
   "id": "ebef6751",
   "metadata": {},
   "source": [
    "## Visualize some of the images from our dataset"
   ]
  },
  {
   "cell_type": "code",
   "execution_count": null,
   "id": "a30166dd",
   "metadata": {},
   "outputs": [],
   "source": [
    "plt.figure(figsize=(10, 10))\n",
    "for image_batch, labels_batch in dataset.take(1):\n",
    "    for i in range(12):\n",
    "        ax = plt.subplot(3, 4, i + 1)\n",
    "        plt.imshow(image_batch[i].numpy().astype(\"uint8\"))\n",
    "        plt.title(class_names[labels_batch[i]])\n",
    "        plt.axis(\"off\")"
   ]
  },
  {
   "cell_type": "markdown",
   "id": "daf5e86d",
   "metadata": {},
   "source": [
    "## Train/validation/test split"
   ]
  },
  {
   "cell_type": "code",
   "execution_count": null,
   "id": "076e9769",
   "metadata": {},
   "outputs": [],
   "source": [
    "def get_dataset_partitions_tf(ds, train_split=0.8, val_split=0.1, test_split=0.1, shuffle=True, shuffle_size=10000):\n",
    "    assert (train_split + test_split + val_split) == 1\n",
    "    \n",
    "    ds_size = len(ds)\n",
    "    \n",
    "    if shuffle:\n",
    "        ds = ds.shuffle(shuffle_size, seed=12)\n",
    "    \n",
    "    train_size = int(train_split * ds_size)\n",
    "    val_size = int(val_split * ds_size)\n",
    "    \n",
    "    train_ds = ds.take(train_size)    \n",
    "    val_ds = ds.skip(train_size).take(val_size)\n",
    "    test_ds = ds.skip(train_size).skip(val_size)\n",
    "    \n",
    "    return train_ds, val_ds, test_ds"
   ]
  },
  {
   "cell_type": "code",
   "execution_count": null,
   "id": "c16fe1b6",
   "metadata": {},
   "outputs": [],
   "source": [
    "train_ds, val_ds, test_ds = get_dataset_partitions_tf(dataset)"
   ]
  },
  {
   "cell_type": "code",
   "execution_count": null,
   "id": "332d90e0",
   "metadata": {},
   "outputs": [],
   "source": [
    "len(train_ds), len(val_ds), len(test_ds)"
   ]
  },
  {
   "cell_type": "code",
   "execution_count": null,
   "id": "c79dfe79",
   "metadata": {},
   "outputs": [],
   "source": []
  },
  {
   "cell_type": "code",
   "execution_count": null,
   "id": "dc2a4a5f",
   "metadata": {},
   "outputs": [],
   "source": []
  },
  {
   "cell_type": "markdown",
   "id": "9d6ef2a9",
   "metadata": {},
   "source": [
    "## Cache, Shuffle, and Prefetch the Dataset"
   ]
  },
  {
   "cell_type": "code",
   "execution_count": null,
   "id": "fb436123",
   "metadata": {},
   "outputs": [],
   "source": [
    "resize_and_rescale = tf.keras.Sequential([\n",
    "  layers.experimental.preprocessing.Resizing(IMAGE_SIZE, IMAGE_SIZE),\n",
    "  layers.experimental.preprocessing.Rescaling(1./255),\n",
    "])"
   ]
  },
  {
   "cell_type": "code",
   "execution_count": null,
   "id": "af14aa6e",
   "metadata": {},
   "outputs": [],
   "source": [
    "data_augmentation = tf.keras.Sequential([\n",
    "  layers.experimental.preprocessing.RandomFlip(\"horizontal_and_vertical\"),\n",
    "  layers.experimental.preprocessing.RandomRotation(0.2),\n",
    "])"
   ]
  },
  {
   "cell_type": "code",
   "execution_count": null,
   "id": "782192ec",
   "metadata": {},
   "outputs": [],
   "source": [
    "train_ds = train_ds.map(\n",
    "    lambda x, y: (data_augmentation(x, training=True), y)\n",
    ").prefetch(buffer_size=tf.data.AUTOTUNE)"
   ]
  },
  {
   "cell_type": "code",
   "execution_count": null,
   "id": "85034f7a",
   "metadata": {},
   "outputs": [],
   "source": [
    "input_shape = (BATCH_SIZE, IMAGE_SIZE, IMAGE_SIZE, CHANNELS)\n",
    "n_classes = 10\n",
    "\n",
    "model = models.Sequential([\n",
    "    resize_and_rescale,\n",
    "    data_augmentation,\n",
    "    layers.Conv2D(32, kernel_size = (3,3), activation='relu', input_shape=input_shape),\n",
    "    layers.MaxPooling2D((2, 2)),\n",
    "    layers.Conv2D(64,  kernel_size = (3,3), activation='relu'),\n",
    "    layers.MaxPooling2D((2, 2)),\n",
    "    layers.Conv2D(64,  kernel_size = (3,3), activation='relu'),\n",
    "    layers.MaxPooling2D((2, 2)),\n",
    "    layers.Conv2D(64, (3, 3), activation='relu'),\n",
    "    layers.MaxPooling2D((2, 2)),\n",
    "    layers.Conv2D(64, (3, 3), activation='relu'),\n",
    "    layers.MaxPooling2D((2, 2)),\n",
    "    layers.Conv2D(64, (3, 3), activation='relu'),\n",
    "    layers.MaxPooling2D((2, 2)),\n",
    "    layers.Flatten(),\n",
    "    layers.Dense(64, activation='relu'),\n",
    "    layers.Dense(n_classes, activation='softmax'),\n",
    "])\n",
    "\n",
    "model.build(input_shape=input_shape)"
   ]
  },
  {
   "cell_type": "code",
   "execution_count": null,
   "id": "298f6480",
   "metadata": {},
   "outputs": [],
   "source": []
  }
 ],
 "metadata": {
  "kernelspec": {
   "display_name": "Python 3 (ipykernel)",
   "language": "python",
   "name": "python3"
  },
  "language_info": {
   "codemirror_mode": {
    "name": "ipython",
    "version": 3
   },
   "file_extension": ".py",
   "mimetype": "text/x-python",
   "name": "python",
   "nbconvert_exporter": "python",
   "pygments_lexer": "ipython3",
   "version": "3.8.5"
  }
 },
 "nbformat": 4,
 "nbformat_minor": 5
}
